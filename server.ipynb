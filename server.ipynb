{
 "cells": [
  {
   "cell_type": "code",
   "execution_count": null,
   "id": "373968a1",
   "metadata": {
    "ExecuteTime": {
     "end_time": "2022-10-28T18:25:47.531030Z",
     "start_time": "2022-10-28T18:25:47.491379Z"
    }
   },
   "outputs": [],
   "source": [
    "import ssl\n",
    "import json\n",
    "import asyncio\n",
    "import logging\n",
    "import websockets\n",
    "import threading\n",
    "\n",
    "ws_conns = set()\n",
    "\n",
    "def DEVICE_ID_GEN():\n",
    "    i = 0\n",
    "    while 1:\n",
    "        i += 1\n",
    "        yield i\n",
    "device_id_gen = DEVICE_ID_GEN()\n",
    "\n",
    "async def broadcast_handler(ws_conn):\n",
    "    global ws_conns\n",
    "    try:\n",
    "        client_type = \"\"\n",
    "        ws_conns.add(ws_conn)\n",
    "        device_id = next(device_id_gen)\n",
    "        await ws_conn.send(json.dumps({\"msg_type\": \"init\", \"msg\": \"Welcome~\", \"device_id\": device_id}))\n",
    "        async for msg_str in ws_conn:\n",
    "            print(msg_str)\n",
    "            msg_json = json.loads(msg_str)\n",
    "            if \"msg_type\" in msg_json and msg_json[\"msg_type\"]==\"ready\":\n",
    "                client_type = msg_json[\"device_type\"]\n",
    "                msg_json = {\"msg_type\":\"alert\", \"device_id\": device_id, \"msg\":f\"A new {client_type} is online\"}\n",
    "                websockets.broadcast(ws_conns, json.dumps(msg_json))\n",
    "            else:\n",
    "                websockets.broadcast(ws_conns, msg_str)\n",
    "\n",
    "    except websockets.ConnectionClosed:\n",
    "        pass # This prevents the \"connection handler failed\" exception\n",
    "    finally:\n",
    "        print(f\"Broadcast: A {client_type} is offline\")\n",
    "        websockets.broadcast(ws_conns, json.dumps({\"alert\": f\"A {client_type} is offline~\"}))\n",
    "        ws_conns.remove(ws_conn)\n",
    "\n",
    "async def main():\n",
    "    server_cert = 'fullchain.pem'  # secret of my apache and flask site\n",
    "    server_key  = 'privkey.pem'    # secret of my apache and flask site\n",
    "    ssl_context = ssl.SSLContext(ssl.PROTOCOL_TLS_SERVER)\n",
    "    ssl_context.load_cert_chain(certfile=server_cert, keyfile=server_key)\n",
    "    bapf = websockets.basic_auth_protocol_factory(\n",
    "        realm=\"my dev server\",\n",
    "        credentials=(\"hello\", \"iloveyou\"),\n",
    "    )\n",
    "    async with websockets.serve(broadcast_handler, \n",
    "                                host=\"0.0.0.0\",\n",
    "                                port=8765,\n",
    "                                create_protocol=bapf,\n",
    "                                ssl=ssl_context): #\n",
    "        await asyncio.Future()  # run forever\n",
    "\n",
    "def foo(): asyncio.run(main())\n",
    "threading.Thread(target=foo).start()"
   ]
  },
  {
   "cell_type": "code",
   "execution_count": null,
   "id": "61bd29bc",
   "metadata": {},
   "outputs": [],
   "source": []
  }
 ],
 "metadata": {
  "kernelspec": {
   "display_name": "Python 3 (ipykernel)",
   "language": "python",
   "name": "python3"
  },
  "language_info": {
   "codemirror_mode": {
    "name": "ipython",
    "version": 3
   },
   "file_extension": ".py",
   "mimetype": "text/x-python",
   "name": "python",
   "nbconvert_exporter": "python",
   "pygments_lexer": "ipython3",
   "version": "3.9.2"
  }
 },
 "nbformat": 4,
 "nbformat_minor": 5
}
