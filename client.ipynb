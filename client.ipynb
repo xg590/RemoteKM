{
 "cells": [
  {
   "cell_type": "code",
   "execution_count": null,
   "id": "1477d396",
   "metadata": {},
   "outputs": [],
   "source": [
    "# pip install smbus2 websockets\n",
    "\n",
    "import ssl\n",
    "import json\n",
    "import asyncio \n",
    "import threading\n",
    "import websockets \n",
    "from smbus2 import SMBus, i2c_msg  \n",
    "\n",
    "bus = SMBus(1) \n",
    "#bus.close() \n",
    "\n",
    "async def main():\n",
    "    username = \"hello\"\n",
    "    password = \"iloveyou\"\n",
    "    hostname = \"guoxiaokang.com\"\n",
    "    async for websocket in websockets.connect(f\"wss://{username}:{password}@{hostname}:8765\"): \n",
    "        try:\n",
    "            await websocket.send(json.dumps({\"greeting\": \"real_keyboard\"})) \n",
    "            async for msg in websocket:\n",
    "                msg   = json.loads(msg)\n",
    "                if \"greeting\" in msg:  \n",
    "                    print(msg)\n",
    "                    continue\n",
    "                elif msg[\"device_type\"] == \"virtual_keyboard\":  \n",
    "                    val   = msg[\"value\"]\n",
    "                    val_t = msg[\"value_type\"]   \n",
    "                    if val_t == \"string\":\n",
    "                        val = ord(val)  \n",
    "                    else:\n",
    "                        val = int(val)\n",
    "                    bus.i2c_rdwr(i2c_msg.write(0x34, [ord('k'), ord('w'), val, 255, 5])) # bytes must be in range [0, 256)\n",
    "                    print(\"\", msg) \n",
    "        except websockets.ConnectionClosed:\n",
    "            print(\"Connection to the server is closed\")\n",
    "            continue \n",
    "\n",
    "def foo(): asyncio.run(main())\n",
    "threading.Thread(target=foo).start()  "
   ]
  }
 ],
 "metadata": {
  "kernelspec": {
   "display_name": "Python 3 (ipykernel)",
   "language": "python",
   "name": "python3"
  },
  "language_info": {
   "codemirror_mode": {
    "name": "ipython",
    "version": 3
   },
   "file_extension": ".py",
   "mimetype": "text/x-python",
   "name": "python",
   "nbconvert_exporter": "python",
   "pygments_lexer": "ipython3",
   "version": "3.9.2"
  }
 },
 "nbformat": 4,
 "nbformat_minor": 5
}
